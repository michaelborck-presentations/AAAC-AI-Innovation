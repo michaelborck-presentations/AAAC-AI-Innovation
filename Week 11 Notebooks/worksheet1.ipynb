{
  "cells": [
    {
      "cell_type": "markdown",
      "metadata": {
        "id": "view-in-github",
        "colab_type": "text"
      },
      "source": [
        "<a href=\"https://colab.research.google.com/github/michael-borck/AAAC-AI-Innovation/blob/main/Week%2011%20Notebooks/worksheet1.ipynb\" target=\"_parent\"><img src=\"https://colab.research.google.com/assets/colab-badge.svg\" alt=\"Open In Colab\"/></a>"
      ]
    },
    {
      "cell_type": "raw",
      "metadata": {
        "id": "qdy7uKxeut4N"
      },
      "source": [
        "---\n",
        "title: Introduction to File Operations and Basic Error Handling\n",
        "subtitle: Building Blocks for Reliable Programming\n",
        "format: jupyter-notebook\n",
        "---"
      ]
    },
    {
      "cell_type": "markdown",
      "metadata": {
        "id": "XRBq3obvut4O"
      },
      "source": [
        "# Activity 1: Introduction to File Operations and Basic Error Handling\n",
        "\n",
        "## Learning Objectives\n",
        "- Apply basic file operations (open, read, write, close) in Python\n",
        "- Identify common errors that can occur during file operations\n",
        "- Implement basic exception handling with try-except blocks\n",
        "\n",
        "## Key Concepts\n",
        "- **File Operations:** Opening, reading, writing, and properly closing files\n",
        "- **Basic Exception Handling:** Using try-except blocks to prevent program crashes\n",
        "- **Context Managers:** Using `with` statements for automatic resource management\n",
        "\n",
        "## Understanding File Operations\n",
        "\n",
        "File operations are fundamental to programming, allowing us to read from and write to files. In this activity, you'll learn how these operations can fail and how to handle those failures gracefully."
      ]
    },
    {
      "cell_type": "code",
      "metadata": {
        "id": "JTTq4Tjiut4P"
      },
      "source": [
        "# Basic file operations review\n",
        "# Opening a file\n",
        "file = open('example.txt', 'w')  # Opens for writing, creates if doesn't exist\n",
        "\n",
        "# Writing to a file\n",
        "file.write('Hello, World!\\n')\n",
        "file.write('This is a test file.')\n",
        "\n",
        "# Closing a file (IMPORTANT!)\n",
        "file.close()\n",
        "\n",
        "# Reading a file\n",
        "file = open('example.txt', 'r')  # Opens for reading\n",
        "content = file.read()\n",
        "print(content)\n",
        "file.close()"
      ],
      "execution_count": null,
      "outputs": []
    },
    {
      "cell_type": "markdown",
      "metadata": {
        "id": "NOQGIC-eut4Q"
      },
      "source": [
        "### What Can Go Wrong?\n",
        "\n",
        "Try running this code:"
      ]
    },
    {
      "cell_type": "code",
      "metadata": {
        "id": "uAiYbeyEut4Q"
      },
      "source": [
        "file = open('nonexistent_file.txt', 'r')\n",
        "content = file.read()\n",
        "print(content)\n",
        "file.close()"
      ],
      "execution_count": null,
      "outputs": []
    },
    {
      "cell_type": "markdown",
      "metadata": {
        "id": "TSm4YxE7ut4Q"
      },
      "source": [
        "✍️ **What error message do you see?**\n",
        "\n",
        "```\n",
        "# Your answer here\n",
        "```\n",
        "\n",
        "## Introducing Exception Handling\n",
        "\n",
        "When we know an operation might fail, we can use a `try-except` block to handle the error:"
      ]
    },
    {
      "cell_type": "code",
      "metadata": {
        "id": "qEpyKq2Hut4R"
      },
      "source": [
        "try:\n",
        "    # Code that might cause an error\n",
        "    file = open('nonexistent_file.txt', 'r')\n",
        "    content = file.read()\n",
        "    print(content)\n",
        "    file.close()\n",
        "except FileNotFoundError:\n",
        "    # What to do if the file isn't found\n",
        "    print(\"Sorry, that file doesn't exist!\")"
      ],
      "execution_count": null,
      "outputs": []
    },
    {
      "cell_type": "markdown",
      "metadata": {
        "id": "QkyPyFdhut4R"
      },
      "source": [
        "### Better File Handling with Context Managers\n",
        "\n",
        "The `with` statement automatically takes care of closing files, even if errors occur:"
      ]
    },
    {
      "cell_type": "code",
      "metadata": {
        "id": "EWKlVcteut4R"
      },
      "source": [
        "try:\n",
        "    with open('example.txt', 'r') as file:\n",
        "        content = file.read()\n",
        "        print(content)\n",
        "    # File is automatically closed when the with block exits\n",
        "except FileNotFoundError:\n",
        "    print(\"Sorry, that file doesn't exist!\")"
      ],
      "execution_count": null,
      "outputs": []
    },
    {
      "cell_type": "markdown",
      "metadata": {
        "id": "hoF8mrd1ut4R"
      },
      "source": [
        "## Activity: Creating a Daily Log System\n",
        "\n",
        "**Scenario:** You're creating a simple application that maintains a daily log file. Each entry should include the current date and a user-provided note.\n",
        "\n",
        "### Task 1: Write the Basic Log Function\n",
        "\n",
        "Complete this function to add entries to a log file:"
      ]
    },
    {
      "cell_type": "code",
      "metadata": {
        "id": "UILJfukhut4R"
      },
      "source": [
        "from datetime import datetime\n",
        "\n",
        "def add_log_entry(note):\n",
        "    \"\"\"\n",
        "    Adds a timestamped entry to a log file.\n",
        "\n",
        "    Args:\n",
        "        note (str): The message to log\n",
        "    \"\"\"\n",
        "    # Your code here:\n",
        "    # 1. Open a file named \"daily_log.txt\" in append mode\n",
        "    # 2. Write the current date/time and the note\n",
        "    # 3. Make sure to handle any potential errors\n",
        "    # 4. Ensure the file is properly closed\n",
        "    pass"
      ],
      "execution_count": null,
      "outputs": []
    },
    {
      "cell_type": "markdown",
      "metadata": {
        "id": "HKSo4M_3ut4R"
      },
      "source": [
        "### Task 2: Test Your Function\n",
        "\n",
        "Write code to test your function with both valid and invalid inputs:"
      ]
    },
    {
      "cell_type": "code",
      "metadata": {
        "id": "c9Zt_6Ndut4R"
      },
      "source": [
        "# Testing with valid input\n",
        "add_log_entry(\"Started working on Python file operations assignment\")\n",
        "\n",
        "# Testing with empty input - how should your function handle this?\n",
        "add_log_entry(\"\")\n",
        "\n",
        "# Add your own test case(s)"
      ],
      "execution_count": null,
      "outputs": []
    },
    {
      "cell_type": "markdown",
      "metadata": {
        "id": "eoBRtschut4R"
      },
      "source": [
        "**💡 AI Tip:** Stuck on formatting the log entries? Ask an AI: \"Show me examples of timestamp formats for log entries in Python\" or \"How can I format dates in Python for a log file?\"\n",
        "\n",
        "## Extension: Reading and Processing the Log\n",
        "\n",
        "Now that you can write to a log file, implement a function to read and display its contents:"
      ]
    },
    {
      "cell_type": "code",
      "metadata": {
        "id": "wchMoqKuut4S"
      },
      "source": [
        "def display_recent_logs(num_entries=5):\n",
        "    \"\"\"\n",
        "    Displays the most recent log entries.\n",
        "\n",
        "    Args:\n",
        "        num_entries (int): Number of recent entries to display\n",
        "    \"\"\"\n",
        "    # Your code here:\n",
        "    # 1. Open and read the log file\n",
        "    # 2. Display the most recent 'num_entries' entries\n",
        "    # 3. Handle the case where the file doesn't exist yet\n",
        "    # 4. Handle other potential errors\n",
        "    pass"
      ],
      "execution_count": null,
      "outputs": []
    },
    {
      "cell_type": "markdown",
      "metadata": {
        "id": "uokEnRpTut4S"
      },
      "source": [
        "## Reflection Questions\n",
        "\n",
        "1. How does using `try-except` blocks improve your program compared to not using them?\n",
        "2. Why is it important to close files after you're done with them? How does the `with` statement help with this?\n",
        "3. What other types of errors might occur when working with files that you should handle?\n",
        "\n",
        "## Looking Ahead\n",
        "\n",
        "In the next activity, we'll explore more advanced exception handling techniques and learn how to handle multiple types of exceptions. The skills you're developing now will be essential for the upcoming \"Safe Utils Module\" mini-project in Week 11, where you'll create reusable utility functions for common operations."
      ]
    }
  ],
  "metadata": {
    "kernelspec": {
      "display_name": "Python 3",
      "language": "python",
      "name": "python3"
    },
    "colab": {
      "provenance": [],
      "include_colab_link": true
    }
  },
  "nbformat": 4,
  "nbformat_minor": 0
}