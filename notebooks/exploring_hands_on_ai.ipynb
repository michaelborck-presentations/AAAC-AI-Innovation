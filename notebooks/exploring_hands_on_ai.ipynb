{
  "nbformat": 4,
  "nbformat_minor": 0,
  "metadata": {
    "colab": {
      "private_outputs": true,
      "provenance": [],
      "authorship_tag": "ABX9TyPV/IjgXPUVcAD5Epxoq9ql",
      "include_colab_link": true
    },
    "kernelspec": {
      "name": "python3",
      "display_name": "Python 3"
    },
    "language_info": {
      "name": "python"
    }
  },
  "cells": [
    {
      "cell_type": "markdown",
      "metadata": {
        "id": "view-in-github",
        "colab_type": "text"
      },
      "source": [
        "<a href=\"https://colab.research.google.com/github/michael-borck/AAAC-AI-Innovation/blob/main/notebooks/exploring_hands_on_ai.ipynb\" target=\"_parent\"><img src=\"https://colab.research.google.com/assets/colab-badge.svg\" alt=\"Open In Colab\"/></a>"
      ]
    },
    {
      "cell_type": "code",
      "source": [
        "!pip install hands-on-ai"
      ],
      "metadata": {
        "collapsed": true,
        "id": "jAJpPjdMWmft"
      },
      "execution_count": null,
      "outputs": []
    },
    {
      "cell_type": "code",
      "source": [
        "import os\n",
        "\n",
        "os.environ['HANDS_ON_AI_SERVER'] = 'http://ollama.serveur.au'\n",
        "os.environ['HANDS_ON_AI_MODEL'] = 'granite3.2'\n",
        "os.environ['HANDS_ON_AI_API_KEY'] = input('Enter your API key: ')"
      ],
      "metadata": {
        "id": "83vdrUMjXrGA"
      },
      "execution_count": null,
      "outputs": []
    },
    {
      "cell_type": "code",
      "source": [
        "import json\n",
        "\n",
        "def safe_json_loads(response):\n",
        "    try:\n",
        "        result = json.loads(response)\n",
        "        return result\n",
        "    except json.JSONDecodeError:\n",
        "        return None"
      ],
      "metadata": {
        "id": "Fk8CNgTRgvsz"
      },
      "execution_count": null,
      "outputs": []
    },
    {
      "cell_type": "code",
      "execution_count": null,
      "metadata": {
        "id": "1Pce_5r7V70V"
      },
      "outputs": [],
      "source": [
        "from hands_on_ai.chat import get_response\n",
        "import json\n",
        "\n",
        "question = input(\"What is your question: \")\n",
        "\n",
        "prompt = f\"\"\"Extract the time, location and weather attribute from the following question:\n",
        "{question}.\n",
        "\n",
        "Please return in JSON format with the following keys:\n",
        "- location: for example 'Perth', 'London', 'Paris' (string, if none is specified, set to Perth)\n",
        "- time: for example 'today','tomorrow', 'next weekend' (string, if none is specified, set to today)\n",
        "- weather: for example 'sunny', 'cloudy', 'rainy' (string, if none is specified, set to 'general')\n",
        "\"\"\"\n",
        "# Simple chat with the default model\n",
        "response = get_response(prompt)\n",
        "response = safe_json_loads(response)\n",
        "print(response)  # Expected output: Paris\n"
      ]
    },
    {
      "cell_type": "code",
      "source": [
        "response['location']"
      ],
      "metadata": {
        "id": "TU7_MdwcYo2x"
      },
      "execution_count": null,
      "outputs": []
    },
    {
      "cell_type": "code",
      "source": [
        "!pip install fetch-my-weather"
      ],
      "metadata": {
        "collapsed": true,
        "id": "lmEz_nnOgTgx"
      },
      "execution_count": null,
      "outputs": []
    },
    {
      "cell_type": "code",
      "source": [
        "import fetch_my_weather\n",
        "\n",
        "def get_weather_for_location(location):\n",
        "    # Fetch weather data for the specified location\n",
        "    weather = fetch_my_weather.get_weather(location=location, format=\"json\")\n",
        "\n",
        "    # Access and print weather data\n",
        "    current = weather.current_condition[0]\n",
        "    print(f\"Location: {location}\")\n",
        "    print(f\"Temperature: {current.temp_C}°C / {current.temp_F}°F\")\n",
        "    print(f\"Condition: {current.weatherDesc[0].value}\")\n",
        "    print(f\"Humidity: {current.humidity}%\")\n",
        "    print(f\"Wind: {current.windspeedKmph} km/h, {current.winddir16Point}\")"
      ],
      "metadata": {
        "id": "xzUyVeBihDU8"
      },
      "execution_count": null,
      "outputs": []
    },
    {
      "cell_type": "code",
      "source": [
        "location = response['location']\n",
        "get_weather_for_location(location)\n"
      ],
      "metadata": {
        "id": "7RnnarL6hy5e"
      },
      "execution_count": null,
      "outputs": []
    },
    {
      "cell_type": "code",
      "source": [],
      "metadata": {
        "id": "OMhFaVNXh4in"
      },
      "execution_count": null,
      "outputs": []
    }
  ]
}